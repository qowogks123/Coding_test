{
 "cells": [
  {
   "cell_type": "markdown",
   "id": "0f09de50",
   "metadata": {},
   "source": [
    "# 1. 대소문자 변환"
   ]
  },
  {
   "cell_type": "code",
   "execution_count": 1,
   "id": "d946464f",
   "metadata": {},
   "outputs": [
    {
     "name": "stdout",
     "output_type": "stream",
     "text": [
      "sTUdy\n",
      "tEACHer\n",
      "gOOD\n"
     ]
    }
   ],
   "source": [
    "def solution(s):\n",
    "    result = \"\"\n",
    "    for x in s:\n",
    "        if x.isupper():\n",
    "            result += x.lower()\n",
    "        else:\n",
    "            result += x.upper()\n",
    "    return result\n",
    "\n",
    "print(solution(\"StuDY\" ))\n",
    "print(solution(\"TeachER\" ))\n",
    "print(solution(\"Good\" ))\n",
    "\n",
    "        "
   ]
  },
  {
   "cell_type": "markdown",
   "id": "2f906edd",
   "metadata": {},
   "source": [
    "# 2. 중복문자제거"
   ]
  },
  {
   "cell_type": "code",
   "execution_count": 6,
   "id": "17af2c4d",
   "metadata": {},
   "outputs": [
    {
     "name": "stdout",
     "output_type": "stream",
     "text": [
      "kset\n",
      "stek\n",
      "itsme\n"
     ]
    }
   ],
   "source": [
    "def solution(s):\n",
    "    answer = ''\n",
    "    for i in range(len(s)):\n",
    "        if s.find(s[i]) == i:\n",
    "            answer += s[i]\n",
    "    return answer\n",
    "\n",
    "print(solution(\"ksekkset\"))\n",
    "print(solution(\"sssssttessskssee\"))\n",
    "print(solution(\"itistime\"))"
   ]
  },
  {
   "cell_type": "markdown",
   "id": "921010e4",
   "metadata": {},
   "source": [
    "# 3. 공통문자열"
   ]
  },
  {
   "cell_type": "code",
   "execution_count": 10,
   "id": "8251e250",
   "metadata": {},
   "outputs": [
    {
     "name": "stdout",
     "output_type": "stream",
     "text": [
      "long\n",
      "len\n",
      "tes\n"
     ]
    }
   ],
   "source": [
    "def solution(s):\n",
    "    answer = ''\n",
    "    for i in range(len(s[0])):\n",
    "        common = set()\n",
    "        for x in s:\n",
    "            common.add(x[i])\n",
    "        if len(common) == 1:\n",
    "            answer += s[0][i]\n",
    "        else:\n",
    "            break\n",
    "            \n",
    "    return answer\n",
    "\n",
    "print(solution([\"long\", \"longtime\", \"longest\"]))  \n",
    "print(solution([\"lengi\", \"lengi\", \"lenti\"] ))     \n",
    "print(solution([\"tesk\", \"tesking\", \"tesming\"] ))     "
   ]
  },
  {
   "cell_type": "markdown",
   "id": "2f3e657f",
   "metadata": {},
   "source": [
    "# 4. 희문 문자열"
   ]
  },
  {
   "cell_type": "code",
   "execution_count": 1,
   "id": "d338eb6a",
   "metadata": {},
   "outputs": [
    {
     "name": "stdout",
     "output_type": "stream",
     "text": [
      "YES\n",
      "NO\n",
      "YES\n"
     ]
    }
   ],
   "source": [
    "def solution(s):\n",
    "    s = s.upper()\n",
    "    left = 0\n",
    "    right = len(s) - 1\n",
    "    while left < right:\n",
    "        if s[left] == s[right]:\n",
    "            left += 1\n",
    "            right -= 1\n",
    "        else:\n",
    "            return \"NO\"\n",
    "\n",
    "    return \"YES\"\n",
    "\n",
    "print(solution(\"gooG\"))\n",
    "print(solution(\"Moon\"))\n",
    "print(solution(\"steets\"))\n",
    "\n",
    "\n",
    "        \n",
    "    \n",
    "    "
   ]
  },
  {
   "cell_type": "markdown",
   "id": "71ccc49d",
   "metadata": {},
   "source": [
    "# 5. 보이는 학생 "
   ]
  },
  {
   "cell_type": "code",
   "execution_count": 2,
   "id": "e36e5624",
   "metadata": {},
   "outputs": [
    {
     "name": "stdout",
     "output_type": "stream",
     "text": [
      "5\n",
      "5\n",
      "1\n",
      "1\n",
      "3\n"
     ]
    }
   ],
   "source": [
    "def solution(s):\n",
    "    answer = 1\n",
    "    n = len(s)\n",
    "    maxh = s[0]\n",
    "    for i in range(1,n):\n",
    "        if s[i] > maxh:\n",
    "            maxh = s[i]\n",
    "            answer += 1\n",
    "    return answer\n",
    "\n",
    "print(solution([130, 135, 148, 140, 145, 150, 150, 153]))\n",
    "print(solution([1, 2, 3, 4, 5]))\n",
    "print(solution([5, 4, 3, 2, 1] ))\n",
    "print(solution([7, 7, 7, 7, 7, 7, 7]))\n",
    "print(solution([7, 7, 7, 9, 9, 9, 12] ))"
   ]
  },
  {
   "cell_type": "markdown",
   "id": "7f74e04d",
   "metadata": {},
   "source": [
    "# 6.점수계산   "
   ]
  },
  {
   "cell_type": "code",
   "execution_count": 4,
   "id": "c3948499",
   "metadata": {},
   "outputs": [
    {
     "name": "stdout",
     "output_type": "stream",
     "text": [
      "10\n",
      "16\n",
      "8\n",
      "0\n",
      "2\n"
     ]
    }
   ],
   "source": [
    "def solution(s):\n",
    "    sumh = 0\n",
    "    collect = 1\n",
    "    hi = 1\n",
    "    for i in range(len(s)):\n",
    "        if collect == s[i]:\n",
    "            sumh += hi\n",
    "            hi += 1\n",
    "        else:\n",
    "            hi = 1\n",
    "    return sumh    \n",
    "print(solution([1, 0, 1, 1, 1, 0, 0, 1, 1, 0]))\n",
    "print(solution([1, 1, 1, 1, 1, 0, 1]))\n",
    "print(solution([0, 1, 0, 1, 0, 1, 1, 1]))\n",
    "print(solution([0, 0, 0, 0, 0]))\n",
    "print(solution([1, 0, 0, 0, 1]))\n",
    "\n",
    "    "
   ]
  },
  {
   "cell_type": "markdown",
   "id": "a9ccff87",
   "metadata": {},
   "source": [
    "# 7. 가장 높은 증가수열"
   ]
  },
  {
   "cell_type": "code",
   "execution_count": 4,
   "id": "2d9639a6",
   "metadata": {},
   "outputs": [
    {
     "name": "stdout",
     "output_type": "stream",
     "text": [
      "14\n",
      "8\n"
     ]
    }
   ],
   "source": [
    "def solution(nums):\n",
    "    answer = 0\n",
    "    maxH = 0\n",
    "    for i in range(len(nums)-1):\n",
    "        if nums[i] < nums[i+1]:\n",
    "            maxH += (nums[i+1] - nums[i])\n",
    "        else:\n",
    "            answer = max(answer, maxH)\n",
    "            maxH = 0\n",
    "    answer = max(answer, maxH)\n",
    "                   \n",
    "    return answer\n",
    "\n",
    "print(solution([8, 12, 2, 3, 7, 6, 12, 20, 3]))\n",
    "print(solution([5, 2, 4, 7, 7, 3, 9, 10, 11]))\n",
    "\n",
    "        "
   ]
  },
  {
   "cell_type": "markdown",
   "id": "2ad0a5ca",
   "metadata": {},
   "source": [
    "# 8. 학급 회장"
   ]
  },
  {
   "cell_type": "code",
   "execution_count": 16,
   "id": "8b64370d",
   "metadata": {},
   "outputs": [
    {
     "name": "stdout",
     "output_type": "stream",
     "text": [
      "C\n",
      "A\n"
     ]
    }
   ],
   "source": [
    "import collections \n",
    "\n",
    "def solution(s):\n",
    "    result = ''\n",
    "    vote = collections.Counter(s)\n",
    "    maxh = 0\n",
    "    for key , value in vote.items():\n",
    "        if maxh < value:\n",
    "            maxh = value\n",
    "            result = key\n",
    "    return result \n",
    "\n",
    "print(solution(\"BACBACCACCBDEDE\"))\n",
    "print(solution(\"AAAAABBCCDDDD\" ))"
   ]
  },
  {
   "cell_type": "markdown",
   "id": "25d0c16f",
   "metadata": {},
   "source": [
    "# 9. 한번 사용한 최초 문자"
   ]
  },
  {
   "cell_type": "code",
   "execution_count": 18,
   "id": "5b742b02",
   "metadata": {},
   "outputs": [
    {
     "name": "stdout",
     "output_type": "stream",
     "text": [
      "3\n",
      "-1\n",
      "3\n"
     ]
    }
   ],
   "source": [
    "import collections\n",
    "\n",
    "def solution(s):\n",
    "    v = collections.Counter(s)\n",
    "    for i in range(len(s)):\n",
    "        if v[s[i]] == 1:\n",
    "            return i+1\n",
    "    return -1\n",
    "print(solution(\"statitsics\"))\n",
    "print(solution(\"aabb\" ))\n",
    "print(solution(\"stringshowtime\"))\n",
    "\n",
    "        "
   ]
  },
  {
   "cell_type": "markdown",
   "id": "6eafcd57",
   "metadata": {},
   "source": [
    "# 10. 빈도수가 1인 가장 큰 숫자"
   ]
  },
  {
   "cell_type": "code",
   "execution_count": 2,
   "id": "1b0fce6f",
   "metadata": {},
   "outputs": [
    {
     "name": "stdout",
     "output_type": "stream",
     "text": [
      "5\n",
      "8\n",
      "-1\n"
     ]
    }
   ],
   "source": [
    "import collections\n",
    "\n",
    "def solution(nums):\n",
    "    max_num = max(nums)\n",
    "    s = collections.Counter(nums)\n",
    "    for i in range(max_num,0,-1):\n",
    "        if s[i] == 1:\n",
    "            return i\n",
    "    return -1\n",
    "print(solution([1, 1, 2, 2, 3, 4, 5, 7, 7] ))\n",
    "print(solution([3, 8, 3, 3, 5, 1, 1, 1, 7, 2, 2]))\n",
    "print(solution([1, 2, 5, 4, 3, 2, 3, 1, 4, 5]))\n",
    "\n",
    "        "
   ]
  },
  {
   "cell_type": "markdown",
   "id": "ec1e7627",
   "metadata": {},
   "source": [
    "# 11. 자기 분열수"
   ]
  },
  {
   "cell_type": "code",
   "execution_count": 5,
   "id": "b686bf36",
   "metadata": {},
   "outputs": [
    {
     "name": "stdout",
     "output_type": "stream",
     "text": [
      "2\n",
      "1\n",
      "1\n",
      "-1\n"
     ]
    }
   ],
   "source": [
    "import collections\n",
    "\n",
    "def solution(nums):\n",
    "    s = collections.defaultdict(int)\n",
    "    for i in nums:\n",
    "        s[i] += 1\n",
    "    min_num = min(nums)\n",
    "    max_num = max(nums)\n",
    "    for i in range(min_num,max_num):\n",
    "        if s[i] == i:\n",
    "            return i\n",
    "    return -1\n",
    "\n",
    "print(solution([1, 2, 3, 1, 3, 3, 2, 4]))\n",
    "print(solution([1, 2, 3, 3, 3, 2, 4, 5, 5, 5] ))\n",
    "print(solution([1, 2, 5, 5, 5, 5, 5, 3, 3, 3]))\n",
    "print(solution([1, 2, 3, 3, 5, 1]))"
   ]
  },
  {
   "cell_type": "markdown",
   "id": "9e616b0f",
   "metadata": {},
   "source": [
    "# 12. 같은 빈도수 만들기"
   ]
  },
  {
   "cell_type": "code",
   "execution_count": 8,
   "id": "2cd78a45",
   "metadata": {},
   "outputs": [
    {
     "name": "stdout",
     "output_type": "stream",
     "text": [
      "[0, 2, 2]\n",
      "[0, 0, 2]\n",
      "[0, 0, 0]\n"
     ]
    }
   ],
   "source": [
    "import collections\n",
    "\n",
    "def solution(s):\n",
    "    h = collections.defaultdict(int)\n",
    "    result = []\n",
    "    for i in s:\n",
    "        h[i] += 1\n",
    "    maxh = 0\n",
    "    for value in h.values():\n",
    "        if value > maxh:\n",
    "            maxh = value\n",
    "    for x in 'abc':\n",
    "        result.append(maxh - h[x])\n",
    "    return result\n",
    "print(solution(\"aaabc\"))\n",
    "print(solution(\"aabb\"))\n",
    "print(solution(\"abc\"))"
   ]
  },
  {
   "cell_type": "code",
   "execution_count": null,
   "id": "4d4d778d",
   "metadata": {},
   "outputs": [],
   "source": []
  }
 ],
 "metadata": {
  "kernelspec": {
   "display_name": "Python 3 (ipykernel)",
   "language": "python",
   "name": "python3"
  },
  "language_info": {
   "codemirror_mode": {
    "name": "ipython",
    "version": 3
   },
   "file_extension": ".py",
   "mimetype": "text/x-python",
   "name": "python",
   "nbconvert_exporter": "python",
   "pygments_lexer": "ipython3",
   "version": "3.9.12"
  }
 },
 "nbformat": 4,
 "nbformat_minor": 5
}

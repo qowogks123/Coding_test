{
 "cells": [
  {
   "cell_type": "code",
   "execution_count": 1,
   "id": "152b221b",
   "metadata": {},
   "outputs": [
    {
     "name": "stdout",
     "output_type": "stream",
     "text": [
      "1234567890\n"
     ]
    }
   ],
   "source": [
    "# 004 \n",
    "# 1234567890을 출력하는 프로그램\n",
    "print('1234567890')"
   ]
  },
  {
   "cell_type": "code",
   "execution_count": 2,
   "id": "95c51bc1",
   "metadata": {},
   "outputs": [
    {
     "name": "stdout",
     "output_type": "stream",
     "text": [
      "배재한\n"
     ]
    }
   ],
   "source": [
    "# 005\n",
    "# 자신의이름을 출력하는 프로그램\n",
    "print('배재한')"
   ]
  },
  {
   "cell_type": "code",
   "execution_count": 4,
   "id": "1c34fb64",
   "metadata": {},
   "outputs": [
    {
     "name": "stdout",
     "output_type": "stream",
     "text": [
      "\n",
      "그대는 \n",
      "나에게 왔다가\n",
      "떠나가네...\n",
      "\n"
     ]
    }
   ],
   "source": [
    "# 007\n",
    "print(\"\"\"\n",
    "그대는 \n",
    "나에게 왔다가\n",
    "떠나가네...\n",
    "\"\"\")"
   ]
  },
  {
   "cell_type": "code",
   "execution_count": 5,
   "id": "58e326c9",
   "metadata": {},
   "outputs": [
    {
     "name": "stdout",
     "output_type": "stream",
     "text": [
      "a\n",
      "b cD\n",
      "EF"
     ]
    }
   ],
   "source": [
    "# 008\n",
    "print('a')\n",
    "print('b','c', end = '')\n",
    "print('D')\n",
    "print('E', end = 'F')"
   ]
  }
 ],
 "metadata": {
  "kernelspec": {
   "display_name": "Python 3 (ipykernel)",
   "language": "python",
   "name": "python3"
  },
  "language_info": {
   "codemirror_mode": {
    "name": "ipython",
    "version": 3
   },
   "file_extension": ".py",
   "mimetype": "text/x-python",
   "name": "python",
   "nbconvert_exporter": "python",
   "pygments_lexer": "ipython3",
   "version": "3.9.12"
  }
 },
 "nbformat": 4,
 "nbformat_minor": 5
}

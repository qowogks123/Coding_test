{
 "cells": [
  {
   "cell_type": "markdown",
   "id": "3fe57890",
   "metadata": {},
   "source": [
    "# 1. 올바른 괄호"
   ]
  },
  {
   "cell_type": "code",
   "execution_count": 2,
   "id": "d3de7560",
   "metadata": {},
   "outputs": [
    {
     "name": "stdout",
     "output_type": "stream",
     "text": [
      "YES\n",
      "NO\n",
      "NO\n",
      "NO\n"
     ]
    }
   ],
   "source": [
    "def solution(s):\n",
    "    stack = []\n",
    "    answer = 'YES'\n",
    "    for i in s:\n",
    "        if i == \")\":\n",
    "            if len(stack) == 0:\n",
    "                return 'NO'\n",
    "            stack.pop()\n",
    "        else:\n",
    "            stack.append(\"(\")\n",
    "            \n",
    "    if len(stack) >= 1:\n",
    "        return 'NO'\n",
    "    return answer\n",
    "\n",
    "print(solution(\"(())()\" ))\n",
    "print(solution(\"(()(()\"  ))\n",
    "print(solution(\"()())\"))\n",
    "print(solution(\"())(\"))\n",
    "\n",
    "                \n",
    "            "
   ]
  },
  {
   "cell_type": "markdown",
   "id": "00123333",
   "metadata": {},
   "source": [
    "# 2. 괄호문자제거"
   ]
  },
  {
   "cell_type": "code",
   "execution_count": 10,
   "id": "2f27b841",
   "metadata": {},
   "outputs": [
    {
     "name": "stdout",
     "output_type": "stream",
     "text": [
      "EFLM\n",
      "E\n",
      "FFD\n",
      "sh\n"
     ]
    }
   ],
   "source": [
    "def solution(s):\n",
    "    stack = []\n",
    "    for x in s:\n",
    "        if x == ')':\n",
    "            while stack.pop() != '(':\n",
    "                pass\n",
    "        else:\n",
    "            stack.append(x)\n",
    "            \n",
    "    return \"\".join(stack)\n",
    "\n",
    "print(solution(\"(A(BC)D)EF(G(H)(IJ)K)LM(N)\"))\n",
    "print(solution(\"((AF)B)(D)E(F)\"))\n",
    "print(solution(\"(Aab)(EsG)FFD\" ))\n",
    "print(solution(\"(YYYDD)sh(kkf(hfs))\"))"
   ]
  },
  {
   "cell_type": "markdown",
   "id": "b5a8a392",
   "metadata": {},
   "source": [
    "# 3. 공주구하기"
   ]
  },
  {
   "cell_type": "code",
   "execution_count": 19,
   "id": "e797d4a8",
   "metadata": {},
   "outputs": [
    {
     "name": "stdout",
     "output_type": "stream",
     "text": [
      "7\n"
     ]
    }
   ],
   "source": [
    "import collections \n",
    "\n",
    "def solution(n,k):\n",
    "    prince = range(1,n+1)\n",
    "    queue = collections.deque(prince)\n",
    "    while len(queue):\n",
    "        for i in range(k-1):\n",
    "            queue.append(queue.popleft())\n",
    "        queue.popleft()\n",
    "        if len(queue) == 1:\n",
    "            answer = queue.popleft()\n",
    "                   \n",
    "    return answer\n",
    "\n",
    "\n",
    "print(solution(8, 3))\n",
    "        "
   ]
  },
  {
   "cell_type": "markdown",
   "id": "8c7931dc",
   "metadata": {},
   "source": [
    "# 4. 최대 매출"
   ]
  },
  {
   "cell_type": "code",
   "execution_count": 5,
   "id": "90ea4ff6",
   "metadata": {},
   "outputs": [
    {
     "name": "stdout",
     "output_type": "stream",
     "text": [
      "56\n",
      "26\n",
      "342\n"
     ]
    }
   ],
   "source": [
    "def solution(nums,k):\n",
    "    n = len(nums)\n",
    "    sumh = 0\n",
    "    maxh = 0\n",
    "    for i in range(k):\n",
    "        sumh += nums[i]\n",
    "    maxh = max(maxh,sumh)\n",
    "    left = 0\n",
    "    for right in range(k,n):\n",
    "        sumh += (nums[right] - nums[left])\n",
    "        left += 1\n",
    "        maxh = max(sumh, maxh)\n",
    "    return maxh\n",
    "    \n",
    "print(solution([12, 15, 11, 20, 25, 10, 20, 19, 13, 15],3))\n",
    "print(solution([1, 2, 3, 5, 6, 7, 1, 3, 9],5))\n",
    "print(solution([12, 34, 56, 72, 93, 121, 33, 11, 23, 52],4))\n",
    "\n",
    "    "
   ]
  },
  {
   "cell_type": "markdown",
   "id": "d9123382",
   "metadata": {},
   "source": [
    "# 5. 카드 가져가기"
   ]
  },
  {
   "cell_type": "code",
   "execution_count": 12,
   "id": "52e46b4a",
   "metadata": {},
   "outputs": [
    {
     "name": "stdout",
     "output_type": "stream",
     "text": [
      "17\n",
      "38\n"
     ]
    }
   ],
   "source": [
    "def solution(nums,k):\n",
    "    answer = sum(nums)\n",
    "    r = len(nums) - k\n",
    "    sumM = 0\n",
    "    minS = 1000000000\n",
    "    for i in range(r):\n",
    "        sumM += nums[i]\n",
    "    minS = sumM\n",
    "    left = 0\n",
    "    for right in range(r, len(nums)):\n",
    "        sumM += (nums[right] - nums[left])\n",
    "        minS = min(minS, sumM)\n",
    "        left += 1\n",
    "    return answer - minS\n",
    "        \n",
    "        \n",
    "        \n",
    "\n",
    "print(solution([2, 3, 7, 1, 2, 1, 5],4))\n",
    "print(solution([1, 30, 5, 6, 7] ,3))"
   ]
  },
  {
   "cell_type": "markdown",
   "id": "4b087e9f",
   "metadata": {},
   "source": [
    "# 6. 부분수열"
   ]
  },
  {
   "cell_type": "code",
   "execution_count": 14,
   "id": "27a407bc",
   "metadata": {},
   "outputs": [
    {
     "name": "stdout",
     "output_type": "stream",
     "text": [
      "3\n",
      "5\n",
      "6\n",
      "3\n"
     ]
    }
   ],
   "source": [
    "def solution(nums, m):\n",
    "    answer = 0\n",
    "    sumN = 0\n",
    "    left = 0\n",
    "    for right in range(len(nums)):\n",
    "        sumN += nums[right]\n",
    "        while sumN > m:\n",
    "            sumN -= nums[left]\n",
    "            left += 1\n",
    "            \n",
    "        if sumN == m:\n",
    "            answer += 1\n",
    "    return answer\n",
    "\n",
    "print(solution([1, 1, 2, 1, 3, 1, 1, 1, 2] , 6))\n",
    "print(solution([1, 1, 1, 1, 1, 1, 3] , 3))\n",
    "print(solution([1, 2, 1, 2, 1, 2, 1] , 3))\n",
    "print(solution([5, 5, 5] , 5))"
   ]
  },
  {
   "cell_type": "code",
   "execution_count": null,
   "id": "fb52b37a",
   "metadata": {},
   "outputs": [],
   "source": []
  }
 ],
 "metadata": {
  "kernelspec": {
   "display_name": "Python 3 (ipykernel)",
   "language": "python",
   "name": "python3"
  },
  "language_info": {
   "codemirror_mode": {
    "name": "ipython",
    "version": 3
   },
   "file_extension": ".py",
   "mimetype": "text/x-python",
   "name": "python",
   "nbconvert_exporter": "python",
   "pygments_lexer": "ipython3",
   "version": "3.9.12"
  }
 },
 "nbformat": 4,
 "nbformat_minor": 5
}

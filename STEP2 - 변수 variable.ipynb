{
 "cells": [
  {
   "cell_type": "code",
   "execution_count": 1,
   "id": "707d1e51",
   "metadata": {},
   "outputs": [
    {
     "name": "stdout",
     "output_type": "stream",
     "text": [
      "3\n"
     ]
    }
   ],
   "source": [
    "# problem 013\n",
    "\n",
    "x = 2\n",
    "y = 1\n",
    "z = x+y\n",
    "print(z)"
   ]
  },
  {
   "cell_type": "code",
   "execution_count": 2,
   "id": "694d40da",
   "metadata": {},
   "outputs": [
    {
     "name": "stdout",
     "output_type": "stream",
     "text": [
      "10\n"
     ]
    }
   ],
   "source": [
    "# problem 012\n",
    "\n",
    "A = 2\n",
    "B = 3\n",
    "print((2*2) + (3*2))"
   ]
  },
  {
   "cell_type": "code",
   "execution_count": 4,
   "id": "1124f6bc",
   "metadata": {},
   "outputs": [
    {
     "name": "stdout",
     "output_type": "stream",
     "text": [
      "117.6\n"
     ]
    }
   ],
   "source": [
    "# problem 015\n",
    "\n",
    "print((20*5) + (34-2) - (72/5))"
   ]
  },
  {
   "cell_type": "code",
   "execution_count": 6,
   "id": "cb515070",
   "metadata": {},
   "outputs": [
    {
     "name": "stdout",
     "output_type": "stream",
     "text": [
      "10\n",
      "100\n",
      "1000\n"
     ]
    }
   ],
   "source": [
    "# problem 016\n",
    "\n",
    "A = 1\n",
    "B = 2\n",
    "C = 3\n",
    "\n",
    "print((2*2) + (3*2))\n",
    "print((3*30) + (2*5))\n",
    "print(A * 1000)"
   ]
  },
  {
   "cell_type": "code",
   "execution_count": 8,
   "id": "56609784",
   "metadata": {},
   "outputs": [
    {
     "name": "stdout",
     "output_type": "stream",
     "text": [
      "14.0\n"
     ]
    }
   ],
   "source": [
    "# problem 017\n",
    "\n",
    "A = 2.5\n",
    "B = 4\n",
    "C = A*4 + B\n",
    "print(C)"
   ]
  },
  {
   "cell_type": "code",
   "execution_count": null,
   "id": "cc57d971",
   "metadata": {},
   "outputs": [],
   "source": []
  }
 ],
 "metadata": {
  "kernelspec": {
   "display_name": "Python 3 (ipykernel)",
   "language": "python",
   "name": "python3"
  },
  "language_info": {
   "codemirror_mode": {
    "name": "ipython",
    "version": 3
   },
   "file_extension": ".py",
   "mimetype": "text/x-python",
   "name": "python",
   "nbconvert_exporter": "python",
   "pygments_lexer": "ipython3",
   "version": "3.9.12"
  }
 },
 "nbformat": 4,
 "nbformat_minor": 5
}

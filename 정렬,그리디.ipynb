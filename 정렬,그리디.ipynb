{
 "cells": [
  {
   "cell_type": "markdown",
   "id": "6c54e745",
   "metadata": {},
   "source": [
    "# 1. 선택정렬"
   ]
  },
  {
   "cell_type": "code",
   "execution_count": 5,
   "id": "29957cd3",
   "metadata": {},
   "outputs": [
    {
     "name": "stdout",
     "output_type": "stream",
     "text": [
      "[1, 2, 3, 5, 6, 7, 8, 9]\n",
      "[6, 7, 8, 9, 10]\n",
      "[1, 2, 3, 3, 4, 6, 7]\n"
     ]
    }
   ],
   "source": [
    "def solution(nums):\n",
    "    n = len(nums)\n",
    "    for i in range(n-1):\n",
    "        maxh = i\n",
    "        for j in range(i+1,n):\n",
    "            if nums[maxh] > nums[j]:\n",
    "                maxh = j\n",
    "        nums[i],nums[maxh] = nums[maxh],nums[i]\n",
    "\n",
    "    return nums\n",
    "\n",
    "print(solution([2, 8, 3, 6, 1, 7, 5, 9] ))\n",
    "print(solution([7, 6, 10, 9, 8]))\n",
    "print(solution([3,6,1,3,7,4,2]))"
   ]
  },
  {
   "cell_type": "markdown",
   "id": "cce76f5a",
   "metadata": {},
   "source": [
    "# 2. 버블 정렬"
   ]
  },
  {
   "cell_type": "code",
   "execution_count": 6,
   "id": "e2c2def5",
   "metadata": {},
   "outputs": [
    {
     "name": "stdout",
     "output_type": "stream",
     "text": [
      "[1, 2, 3, 5, 6, 7, 8, 9]\n",
      "[6, 7, 8, 9, 10]\n"
     ]
    }
   ],
   "source": [
    "def solution(nums):\n",
    "    n = len(nums)\n",
    "    for i in range(n-1):\n",
    "        for j in range(n-i-1):\n",
    "            if nums[j] > nums[j+1]:\n",
    "                nums[j],nums[j+1] = nums[j+1],nums[j]\n",
    "    return nums\n",
    "\n",
    "print(solution([2, 8, 3, 6, 1, 7, 5, 9] ))\n",
    "print(solution([7, 6, 10, 9, 8]  ))"
   ]
  },
  {
   "cell_type": "markdown",
   "id": "678107bf",
   "metadata": {},
   "source": [
    "# 3. 삽입정렬"
   ]
  },
  {
   "cell_type": "code",
   "execution_count": 8,
   "id": "230378a3",
   "metadata": {},
   "outputs": [
    {
     "name": "stdout",
     "output_type": "stream",
     "text": [
      "[1, 2, 3, 5, 6, 7, 8, 9]\n",
      "[6, 7, 8, 9, 10]\n",
      "[1, 2, 3, 5, 6, 7, 8, 9]\n",
      "[6, 7, 8, 9, 10]\n"
     ]
    }
   ],
   "source": [
    "def solution(nums):\n",
    "    n = len(nums)\n",
    "    for i in range(1,n):\n",
    "        for j in range(i,0,-1):\n",
    "            if nums[j-1] > nums[j]:\n",
    "                nums[j],nums[j-1] = nums[j-1],nums[j]\n",
    "            else:\n",
    "                break\n",
    "    return nums\n",
    "print(solution([2, 8, 3, 6, 1, 7, 5, 9]))\n",
    "print(solution([7, 6, 10, 9, 8]))\n",
    "print(solution([2, 8, 3, 6, 1, 7, 5, 9]))\n",
    "print(solution([7, 6, 10, 9, 8]))\n",
    "        "
   ]
  },
  {
   "cell_type": "markdown",
   "id": "b00560be",
   "metadata": {},
   "source": [
    "# 4. 교환 횟수"
   ]
  },
  {
   "cell_type": "code",
   "execution_count": 3,
   "id": "274dbf0a",
   "metadata": {},
   "outputs": [
    {
     "name": "stdout",
     "output_type": "stream",
     "text": [
      "[1, 1, 2, 2, 2]\n"
     ]
    }
   ],
   "source": [
    "def solution(nums):\n",
    "    n = len(nums)\n",
    "    answer = [0] * n\n",
    "    for i in range(n-1):\n",
    "        minIndex = i\n",
    "        for j in range(i+1, n):\n",
    "            if nums[j] < nums[minIndex]:\n",
    "                minIndex = j\n",
    "\n",
    "        if i != minIndex:\n",
    "            nums[i], nums[minIndex] = nums[minIndex], nums[i]\n",
    "            answer[i] += 1\n",
    "            answer[minIndex] += 1\n",
    "\n",
    "    return answer\n",
    "\n",
    "\n",
    "print(solution([5, 4, 2, 1, 3]))"
   ]
  },
  {
   "cell_type": "markdown",
   "id": "38dee059",
   "metadata": {},
   "source": [
    "# 5. 카드 가져가기"
   ]
  },
  {
   "cell_type": "code",
   "execution_count": 13,
   "id": "2acfc9c7",
   "metadata": {},
   "outputs": [
    {
     "name": "stdout",
     "output_type": "stream",
     "text": [
      "25\n",
      "34\n"
     ]
    }
   ],
   "source": [
    "def solution(nums,k):\n",
    "    nums.sort(reverse=True)\n",
    "    n = len(nums)\n",
    "    result = 0\n",
    "    diff = []\n",
    "    for i in range(1,n,2):\n",
    "        result += nums[i]\n",
    "        diff.append(nums[i-1] - nums[i])\n",
    "    diff.sort(reverse=True)\n",
    "    for i in range(k):\n",
    "        result += diff[i]\n",
    "    return result\n",
    "\n",
    "print(solution([7, 8, 5, 9, 3, 1, 3, 1, 1, 9],2))\n",
    "print(solution([8, 2, 12, 12, 12, 12, 2, 2],2))"
   ]
  },
  {
   "cell_type": "markdown",
   "id": "b1cd3519",
   "metadata": {},
   "source": [
    "# 6. 침몰하는 타이타닉"
   ]
  },
  {
   "cell_type": "code",
   "execution_count": 14,
   "id": "ef7b64d5",
   "metadata": {
    "scrolled": true
   },
   "outputs": [
    {
     "name": "stdout",
     "output_type": "stream",
     "text": [
      "3\n"
     ]
    }
   ],
   "source": [
    "def solution(nums,k):\n",
    "    result = 0\n",
    "    nums.sort(reverse=True)\n",
    "    left= 0 \n",
    "    right = len(nums) - 1\n",
    "    while left < right:\n",
    "        if nums[left] + nums[right] <= k:\n",
    "            result += 1\n",
    "            left += 1\n",
    "            right -= 1\n",
    "        else:\n",
    "            result += 1\n",
    "            left += 1\n",
    "            \n",
    "    return result\n",
    "\n",
    "print(solution([90, 50, 70, 100, 60], 140))\n",
    "    \n",
    "    "
   ]
  },
  {
   "cell_type": "markdown",
   "id": "e303a37e",
   "metadata": {},
   "source": [
    "# 7. 회의실 배정"
   ]
  },
  {
   "cell_type": "code",
   "execution_count": 3,
   "id": "01fe2350",
   "metadata": {},
   "outputs": [
    {
     "name": "stdout",
     "output_type": "stream",
     "text": [
      "3\n"
     ]
    }
   ],
   "source": [
    "def solution(times):\n",
    "    answer = 0\n",
    "    times.sort(key = lambda v : (v[1] , v[0]))\n",
    "    et = 0\n",
    "    for x in times:\n",
    "        if x[0] >= et:\n",
    "            answer += 1\n",
    "            et = x[1]\n",
    "    return answer\n",
    "    \n",
    "    \n",
    "    \n",
    "    \n",
    "print(solution([[1, 4], [2, 3], [3, 5], [4, 6], [5, 7]]))"
   ]
  },
  {
   "cell_type": "code",
   "execution_count": null,
   "id": "58ab0114",
   "metadata": {},
   "outputs": [],
   "source": []
  }
 ],
 "metadata": {
  "kernelspec": {
   "display_name": "Python 3 (ipykernel)",
   "language": "python",
   "name": "python3"
  },
  "language_info": {
   "codemirror_mode": {
    "name": "ipython",
    "version": 3
   },
   "file_extension": ".py",
   "mimetype": "text/x-python",
   "name": "python",
   "nbconvert_exporter": "python",
   "pygments_lexer": "ipython3",
   "version": "3.9.12"
  }
 },
 "nbformat": 4,
 "nbformat_minor": 5
}
